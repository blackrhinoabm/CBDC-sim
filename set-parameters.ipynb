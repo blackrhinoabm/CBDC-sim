{
 "cells": [
  {
   "cell_type": "code",
   "execution_count": 44,
   "metadata": {},
   "outputs": [],
   "source": [
    "import json\n",
    "import networkx as nx"
   ]
  },
  {
   "cell_type": "markdown",
   "metadata": {},
   "source": [
    "# Set parameters.\n",
    "\n",
    "## Set global parameters"
   ]
  },
  {
   "cell_type": "code",
   "execution_count": 63,
   "metadata": {},
   "outputs": [],
   "source": [
    "parameters = {\n",
    "  \"num_sweeps\": 99,\n",
    "  \"num_simulations\": 1,\n",
    "  \"num_banks\": 2,\n",
    "  \"num_firms\": 1,\n",
    "  \"num_households\": 1,\n",
    "  \"time\": 100, \n",
    "    \"interest_deposits\": 0.1\n",
    "}"
   ]
  },
  {
   "cell_type": "code",
   "execution_count": 64,
   "metadata": {},
   "outputs": [],
   "source": [
    "with open('input/parameters.json', 'w') as outfile:\n",
    "    json.dump(parameters, outfile)"
   ]
  },
  {
   "cell_type": "markdown",
   "metadata": {},
   "source": [
    "## Initialise Graph"
   ]
  },
  {
   "cell_type": "code",
   "execution_count": 47,
   "metadata": {},
   "outputs": [],
   "source": [
    "graph = nx.Graph()"
   ]
  },
  {
   "cell_type": "markdown",
   "metadata": {},
   "source": [
    "## Initialise bank parameters"
   ]
  },
  {
   "cell_type": "code",
   "execution_count": 48,
   "metadata": {},
   "outputs": [],
   "source": [
    "bank1_parameters = {\"interest_deposits\": 0.01,\n",
    "  \"interest_loans\": 0.02,\n",
    "  \"initial_deposits\": 10}"
   ]
  },
  {
   "cell_type": "code",
   "execution_count": 49,
   "metadata": {},
   "outputs": [],
   "source": [
    "bank2_parameters = {\"interest_deposits\": 0.011,\n",
    "  \"interest_loans\": 0.02,\n",
    "  \"initial_deposits\": 10}"
   ]
  },
  {
   "cell_type": "code",
   "execution_count": 50,
   "metadata": {},
   "outputs": [],
   "source": [
    "for idx, file in enumerate([bank1_parameters, bank2_parameters]):\n",
    "    # add banks to graph\n",
    "    graph.add_node('b{}'.format(idx))\n",
    "    \n",
    "    # output parameters\n",
    "    with open('input/banks/bank{}.json'.format(idx), 'w') as outfile:\n",
    "        json.dump(file, outfile)"
   ]
  },
  {
   "cell_type": "markdown",
   "metadata": {},
   "source": [
    "## Initialise firm parameters"
   ]
  },
  {
   "cell_type": "code",
   "execution_count": 51,
   "metadata": {},
   "outputs": [],
   "source": [
    "firm1_parameters = {\"productivity\": 0.1, 'initial_deposits': 5.0}"
   ]
  },
  {
   "cell_type": "code",
   "execution_count": 52,
   "metadata": {},
   "outputs": [],
   "source": [
    "firm2_parameters = {\"productivity\": 0.11, 'initial_deposits': 5.0}"
   ]
  },
  {
   "cell_type": "code",
   "execution_count": 53,
   "metadata": {},
   "outputs": [],
   "source": [
    "for idx, file in enumerate([firm1_parameters, firm2_parameters]):\n",
    "    # add firms to graph\n",
    "    graph.add_node('f{}'.format(idx))\n",
    "    # add edge to all banks\n",
    "    for idx, f in enumerate([bank1_parameters, bank2_parameters]):\n",
    "        graph.add_edge('f{}'.format(idx), 'b{}'.format(idx))\n",
    "    \n",
    "    # output parameters\n",
    "    with open('input/firms/firm{}.json'.format(idx), 'w') as outfile:\n",
    "        json.dump(file, outfile)"
   ]
  },
  {
   "cell_type": "markdown",
   "metadata": {},
   "source": [
    "### Initialise household parameters"
   ]
  },
  {
   "cell_type": "code",
   "execution_count": 60,
   "metadata": {},
   "outputs": [],
   "source": [
    "household1_parameters = {\"labour\": 24.00, \"propensity_to_save\": 0.4, 'initial_deposits': 5.0}"
   ]
  },
  {
   "cell_type": "code",
   "execution_count": 61,
   "metadata": {},
   "outputs": [],
   "source": [
    "household2_parameters = {\"labour\": 24.00, \"propensity_to_save\": 0.4, 'initial_deposits': 5.0}"
   ]
  },
  {
   "cell_type": "code",
   "execution_count": 62,
   "metadata": {},
   "outputs": [],
   "source": [
    "for idx, file in enumerate([household1_parameters, household2_parameters]):\n",
    "    # add households to graph\n",
    "    graph.add_node('hh{}'.format(idx))\n",
    "    # add edges to all banks \n",
    "    for idx, f in enumerate([bank1_parameters, bank2_parameters]):\n",
    "        graph.add_edge('hh{}'.format(idx), 'b{}'.format(idx))\n",
    "        \n",
    "    # add edge to all firms\n",
    "    for idx, f in enumerate([firm1_parameters, firm2_parameters]):\n",
    "        graph.add_edge('hh{}'.format(idx), 'f{}'.format(idx))\n",
    "        \n",
    "    # output parameters\n",
    "    with open('input/households/household{}.json'.format(idx), 'w') as outfile:\n",
    "        json.dump(file, outfile)"
   ]
  },
  {
   "cell_type": "markdown",
   "metadata": {},
   "source": [
    "## Initialise central bank parameters"
   ]
  },
  {
   "cell_type": "code",
   "execution_count": 57,
   "metadata": {},
   "outputs": [],
   "source": [
    "centralbank_parameters = {}"
   ]
  },
  {
   "cell_type": "code",
   "execution_count": 58,
   "metadata": {},
   "outputs": [],
   "source": [
    "for idx, file in enumerate([centralbank_parameters]):\n",
    "    # add central-banks to graph\n",
    "    graph.add_node('cb{}'.format(idx))\n",
    "    \n",
    "    # add edge to all banks\n",
    "    for idx, f in enumerate([bank1_parameters, bank2_parameters]):\n",
    "        graph.add_edge('cb{}'.format(idx), 'b{}'.format(idx))\n",
    "    \n",
    "    # output parameters\n",
    "    with open('input/central-bank/central-bank{}.json'.format(idx), 'w') as outfile:\n",
    "        json.dump(file, outfile)"
   ]
  },
  {
   "cell_type": "markdown",
   "metadata": {},
   "source": [
    "# output network as file"
   ]
  },
  {
   "cell_type": "code",
   "execution_count": 59,
   "metadata": {},
   "outputs": [],
   "source": [
    "nx.write_gexf(graph, \"input/network.gexf\")"
   ]
  }
 ],
 "metadata": {
  "kernelspec": {
   "display_name": "Python 3",
   "language": "python",
   "name": "python3"
  },
  "language_info": {
   "codemirror_mode": {
    "name": "ipython",
    "version": 3
   },
   "file_extension": ".py",
   "mimetype": "text/x-python",
   "name": "python",
   "nbconvert_exporter": "python",
   "pygments_lexer": "ipython3",
   "version": "3.6.8"
  }
 },
 "nbformat": 4,
 "nbformat_minor": 2
}
