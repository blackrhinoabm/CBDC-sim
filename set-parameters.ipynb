{
 "cells": [
  {
   "cell_type": "code",
   "execution_count": 1,
   "metadata": {},
   "outputs": [],
   "source": [
    "import json"
   ]
  },
  {
   "cell_type": "markdown",
   "metadata": {},
   "source": [
    "# Set parameters.\n",
    "\n",
    "## Set global parameters"
   ]
  },
  {
   "cell_type": "code",
   "execution_count": 24,
   "metadata": {},
   "outputs": [],
   "source": [
    "parameters = {\n",
    "  \"num_sweeps\": 99,\n",
    "  \"num_simulations\": 1,\n",
    "  \"num_banks\": 2,\n",
    "  \"num_firms\": 1,\n",
    "  \"num_households\": 1,\n",
    "  \"time\": 100,\n",
    "}"
   ]
  },
  {
   "cell_type": "code",
   "execution_count": 25,
   "metadata": {},
   "outputs": [],
   "source": [
    "with open('input/parameters.json', 'w') as outfile:\n",
    "    json.dump(parameters, outfile)"
   ]
  },
  {
   "cell_type": "markdown",
   "metadata": {},
   "source": [
    "## Initialise bank parameters"
   ]
  },
  {
   "cell_type": "code",
   "execution_count": 7,
   "metadata": {},
   "outputs": [],
   "source": [
    "bank1_parameters = {\"interest_deposits\": 0.01,\n",
    "  \"interest_loans\": 0.02,\n",
    "  \"initial_deposits\": 10}"
   ]
  },
  {
   "cell_type": "code",
   "execution_count": 9,
   "metadata": {},
   "outputs": [],
   "source": [
    "bank2_parameters = {\"interest_deposits\": 0.011,\n",
    "  \"interest_loans\": 0.02,\n",
    "  \"initial_deposits\": 10}"
   ]
  },
  {
   "cell_type": "code",
   "execution_count": 10,
   "metadata": {},
   "outputs": [],
   "source": [
    "for idx, file in enumerate([bank1_parameters, bank2_parameters]):\n",
    "    with open('input/banks/bank{}.json'.format(idx), 'w') as outfile:\n",
    "        json.dump(file, outfile)"
   ]
  },
  {
   "cell_type": "markdown",
   "metadata": {},
   "source": [
    "## Initialise firm parameters"
   ]
  },
  {
   "cell_type": "code",
   "execution_count": 15,
   "metadata": {},
   "outputs": [],
   "source": [
    "firm1_parameters = {\"productivity\": 0.1, 'initial_deposits': 5.0}"
   ]
  },
  {
   "cell_type": "code",
   "execution_count": 16,
   "metadata": {},
   "outputs": [],
   "source": [
    "firm2_parameters = {\"productivity\": 0.11, 'initial_deposits': 5.0}"
   ]
  },
  {
   "cell_type": "code",
   "execution_count": 17,
   "metadata": {},
   "outputs": [],
   "source": [
    "for idx, file in enumerate([firm1_parameters, firm2_parameters]):\n",
    "    with open('input/firms/firm{}.json'.format(idx), 'w') as outfile:\n",
    "        json.dump(file, outfile)"
   ]
  },
  {
   "cell_type": "markdown",
   "metadata": {},
   "source": [
    "### Initialise household parameters"
   ]
  },
  {
   "cell_type": "code",
   "execution_count": 18,
   "metadata": {},
   "outputs": [],
   "source": [
    "household1_parameters = {\"labour\": 24.00, \"propensity_to_save\": 0.4, 'initial_deposits': 5.0}"
   ]
  },
  {
   "cell_type": "code",
   "execution_count": 19,
   "metadata": {},
   "outputs": [],
   "source": [
    "household2_parameters = {\"labour\": 24.00, \"propensity_to_save\": 0.4, 'initial_deposits': 5.0}"
   ]
  },
  {
   "cell_type": "code",
   "execution_count": 20,
   "metadata": {},
   "outputs": [],
   "source": [
    "for idx, file in enumerate([household1_parameters, household2_parameters]):\n",
    "    with open('input/households/household{}.json'.format(idx), 'w') as outfile:\n",
    "        json.dump(file, outfile)"
   ]
  },
  {
   "cell_type": "markdown",
   "metadata": {},
   "source": [
    "## Initialise central bank parameters"
   ]
  },
  {
   "cell_type": "code",
   "execution_count": 22,
   "metadata": {},
   "outputs": [],
   "source": [
    "centralbank_parameters = {}"
   ]
  },
  {
   "cell_type": "code",
   "execution_count": 23,
   "metadata": {},
   "outputs": [],
   "source": [
    "for idx, file in enumerate([centralbank_parameters]):\n",
    "    with open('input/central-bank/central-bank{}.json'.format(idx), 'w') as outfile:\n",
    "        json.dump(file, outfile)"
   ]
  }
 ],
 "metadata": {
  "kernelspec": {
   "display_name": "Python 3",
   "language": "python",
   "name": "python3"
  },
  "language_info": {
   "codemirror_mode": {
    "name": "ipython",
    "version": 3
   },
   "file_extension": ".py",
   "mimetype": "text/x-python",
   "name": "python",
   "nbconvert_exporter": "python",
   "pygments_lexer": "ipython3",
   "version": "3.6.8"
  }
 },
 "nbformat": 4,
 "nbformat_minor": 2
}
