{
 "cells": [
  {
   "cell_type": "code",
   "execution_count": 1,
   "metadata": {},
   "outputs": [],
   "source": [
    "import numpy as np\n",
    "import pandas as pd\n",
    "import matplotlib.pyplot as plt"
   ]
  },
  {
   "cell_type": "markdown",
   "metadata": {},
   "source": [
    "# Basic solow growth model with variables:\n",
    "\n",
    "### Inputs\n",
    "1. labour force growth rate (proportional)\n",
    "2. labour force efficiency growth rate  (proportional)\n",
    "3. propensity to save \n",
    "4. capital depreciation rate\n",
    "5. elasticity of production with respect to capital \n",
    "6. initial labour\n",
    "7. initial efficiency\n",
    "8. initial capital intensity\n",
    "9. Simulation time \n",
    "\n",
    "### Outputs\n",
    "1. Size of labour force (L)\n",
    "2. Labour efficiency (E)\n",
    "3. Capital intensity (κ)\n",
    "4. Production (Y) \n",
    "5. Capital (K) \n",
    "6. output per worker (y) \n",
    "\n",
    "### Agents: \n",
    "1. households (linked to size of labour force L)\n",
    "2. firms (linked to capital?)\n",
    "3. banks (linked to .... savings?)\n",
    "4. LSP (linked to banks?)\n",
    "5. central bank \n",
    "\n",
    "\n",
    "### transaction types: \n",
    "- B - Banknotes (household / firms)\n",
    "- D - Deposits (household / firms)\n",
    "- L - Loans and Bonds (firms / banks)\n",
    "- R - Reserves (share of deposits?)\n",
    "- C - CBDC (?)\n",
    "- M - Open Market Operations (share of deposits?)"
   ]
  },
  {
   "cell_type": "markdown",
   "metadata": {},
   "source": [
    "### Inputs"
   ]
  },
  {
   "cell_type": "code",
   "execution_count": 2,
   "metadata": {},
   "outputs": [],
   "source": [
    "labour_growth = 0.01 # the labor-force L proportional growth rate (n)\n",
    "efficiency_growth = 0.02 # the labor-efficiency E proportional growth rate (g)\n",
    "savings_rate = 0.12 # the share of production Y that is saved and invested (s)\n",
    "depreciation_rate = 0.03 # the capital depreciation rate (δ)\n",
    "production_elasticity = 1.09 # the elasticitiy of production Y with respect to capital θ\n",
    "labour_0 = 1 # labour force T=0 (L_0)\n",
    "efficiency_0 = 1 # labour efficiency T=0 (E_0)\n",
    "capital_0 = 8 # capital at T=0 (κ_0)\n",
    "time = 300 # simulation time"
   ]
  },
  {
   "cell_type": "markdown",
   "metadata": {},
   "source": [
    "## Initialise:"
   ]
  },
  {
   "cell_type": "code",
   "execution_count": 3,
   "metadata": {},
   "outputs": [],
   "source": [
    "# initialize the dataframe:\n",
    "solow_df = pd.DataFrame()\n",
    "labour = [labour_0]\n",
    "labour_efficiency = [efficiency_0]\n",
    "capital_intensity = [capital_0]\n",
    "production = []\n",
    "capital = []\n",
    "output_per_worker = []"
   ]
  },
  {
   "cell_type": "markdown",
   "metadata": {},
   "source": [
    "### Simulation"
   ]
  },
  {
   "cell_type": "code",
   "execution_count": 4,
   "metadata": {},
   "outputs": [],
   "source": [
    "# determine labour force size, labour efficiency, and capital intensity over time\n",
    "for t in range(time):\n",
    "    labour = labour + [labour[t]*np.exp(labour_growth)]\n",
    "    labour_efficiency = labour_efficiency + [labour_efficiency[t]*np.exp(efficiency_growth)]\n",
    "    capital_intensity = capital_intensity + [capital_intensity[t] * (1 + (savings_rate/capital_intensity[t] - (labour_growth+efficiency_growth+depreciation_rate))/(1+production_elasticity))]\n",
    "\n",
    "# determine production, capital, and output per worker    \n",
    "for t in range(time+1):\n",
    "    production = production + [(capital_intensity[t]**production_elasticity)*labour[t]*labour_efficiency[t]]\n",
    "    capital = capital + [(capital_intensity[t]*production[t])]\n",
    "    output_per_worker = output_per_worker + [production[t]/labour[t]]"
   ]
  },
  {
   "cell_type": "code",
   "execution_count": 5,
   "metadata": {},
   "outputs": [],
   "source": [
    "solow_df['labour'] = labour\n",
    "solow_df['labour_efficiency'] = labour_efficiency\n",
    "solow_df['capital_intensity'] = capital_intensity\n",
    "solow_df['production'] = production\n",
    "solow_df['capital'] = capital\n",
    "solow_df['output_per_worker'] = output_per_worker"
   ]
  },
  {
   "cell_type": "code",
   "execution_count": 6,
   "metadata": {},
   "outputs": [
    {
     "data": {
      "text/plain": [
       "<matplotlib.axes._subplots.AxesSubplot at 0x25b86106320>"
      ]
     },
     "execution_count": 6,
     "metadata": {},
     "output_type": "execute_result"
    },
    {
     "data": {
      "image/png": "[encoded data removed]",
      "text/plain": [
       "<Figure size 432x288 with 1 Axes>"
      ]
     },
     "metadata": {
      "needs_background": "light"
     },
     "output_type": "display_data"
    }
   ],
   "source": [
    "solow_df.plot()"
   ]
  },
  {
   "cell_type": "markdown",
   "metadata": {},
   "source": [
    "### Output: "
   ]
  },
  {
   "cell_type": "code",
   "execution_count": 28,
   "metadata": {},
   "outputs": [],
   "source": [
    "solow_df.to_csv('solow_output.csv', sep=';')"
   ]
  }
 ],
 "metadata": {
  "kernelspec": {
   "display_name": "Python 3",
   "language": "python",
   "name": "python3"
  },
  "language_info": {
   "codemirror_mode": {
    "name": "ipython",
    "version": 3
   },
   "file_extension": ".py",
   "mimetype": "text/x-python",
   "name": "python",
   "nbconvert_exporter": "python",
   "pygments_lexer": "ipython3",
   "version": "3.6.8"
  }
 },
 "nbformat": 4,
 "nbformat_minor": 2
}
